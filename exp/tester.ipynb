{
 "cells": [
  {
   "cell_type": "code",
   "execution_count": 2,
   "id": "d8b73153",
   "metadata": {},
   "outputs": [
    {
     "name": "stdout",
     "output_type": "stream",
     "text": [
      "Number of newly added trainable parameters: 1. Total number of trainable parameters: 1\n",
      "Number of newly added trainable parameters: 1. Total number of trainable parameters: 2\n",
      "Number of newly added trainable parameters: 1. Total number of trainable parameters: 3\n",
      "Number of newly added trainable parameters: 1. Total number of trainable parameters: 4\n"
     ]
    },
    {
     "ename": "AttributeError",
     "evalue": "DynamicJaxprTracer has no attribute branch",
     "output_type": "error",
     "traceback": [
      "\u001b[0;31m---------------------------------------------------------------------------\u001b[0m",
      "\u001b[0;31mAttributeError\u001b[0m                            Traceback (most recent call last)",
      "File \u001b[0;32m/pool0/lotlikar/ten_amrith_venv/lib/python3.10/site-packages/jax/_src/core.py:930\u001b[0m, in \u001b[0;36mTracer.__getattr__\u001b[0;34m(self, name)\u001b[0m\n\u001b[1;32m    929\u001b[0m \u001b[38;5;28;01mtry\u001b[39;00m:\n\u001b[0;32m--> 930\u001b[0m   attr \u001b[38;5;241m=\u001b[39m \u001b[38;5;28;43mgetattr\u001b[39;49m\u001b[43m(\u001b[49m\u001b[38;5;28;43mself\u001b[39;49m\u001b[38;5;241;43m.\u001b[39;49m\u001b[43maval\u001b[49m\u001b[43m,\u001b[49m\u001b[43m \u001b[49m\u001b[43mname\u001b[49m\u001b[43m)\u001b[49m\n\u001b[1;32m    931\u001b[0m \u001b[38;5;28;01mexcept\u001b[39;00m \u001b[38;5;167;01mAttributeError\u001b[39;00m \u001b[38;5;28;01mas\u001b[39;00m err:\n",
      "\u001b[0;31mAttributeError\u001b[0m: 'ShapedArray' object has no attribute 'branch'",
      "\nThe above exception was the direct cause of the following exception:\n",
      "\u001b[0;31mAttributeError\u001b[0m                            Traceback (most recent call last)",
      "Cell \u001b[0;32mIn[2], line 13\u001b[0m\n\u001b[1;32m      5\u001b[0m importlib\u001b[38;5;241m.\u001b[39mreload(model)\n\u001b[1;32m      8\u001b[0m \u001b[38;5;66;03m#with open('./electrical_image_dataset/cell_41_ei.pkl', 'rb') as f:\u001b[39;00m\n\u001b[1;32m      9\u001b[0m \u001b[38;5;66;03m#    ei_example = pkl.load(f)\u001b[39;00m\n\u001b[1;32m     10\u001b[0m \n\u001b[1;32m     11\u001b[0m \u001b[38;5;66;03m#print(ei_example.shape)\u001b[39;00m\n\u001b[0;32m---> 13\u001b[0m gt_params, gt_ei \u001b[38;5;241m=\u001b[39m \u001b[43mmodel\u001b[49m\u001b[38;5;241;43m.\u001b[39;49m\u001b[43mgenerate_random_gt_params_ei\u001b[49m\u001b[43m(\u001b[49m\u001b[43mseed\u001b[49m\u001b[38;5;241;43m=\u001b[39;49m\u001b[38;5;241;43m42\u001b[39;49m\u001b[43m)\u001b[49m\n\u001b[1;32m     14\u001b[0m \u001b[38;5;28mprint\u001b[39m(gt_params)\n\u001b[1;32m     15\u001b[0m \u001b[38;5;28mprint\u001b[39m(gt_ei\u001b[38;5;241m.\u001b[39mshape)\n",
      "File \u001b[0;32m/nfs/pool0/lotlikar/software/extracellular-jaxley/exp/model.py:436\u001b[0m, in \u001b[0;36mgenerate_random_gt_params_ei\u001b[0;34m(seed)\u001b[0m\n\u001b[1;32m    433\u001b[0m ground_truth_model_params \u001b[38;5;241m=\u001b[39m {\u001b[38;5;241m*\u001b[39m\u001b[38;5;241m*\u001b[39mPARAMETER_BOUNDS, \u001b[38;5;241m*\u001b[39m\u001b[38;5;241m*\u001b[39mground_truth_model_params}\n\u001b[1;32m    435\u001b[0m cell_container \u001b[38;5;241m=\u001b[39m StraightAxon()\n\u001b[0;32m--> 436\u001b[0m gt_ei \u001b[38;5;241m=\u001b[39m \u001b[43mcell_container\u001b[49m\u001b[38;5;241;43m.\u001b[39;49m\u001b[43mpredict_ei\u001b[49m\u001b[43m(\u001b[49m\u001b[43mground_truth_model_params\u001b[49m\u001b[43m)\u001b[49m\n\u001b[1;32m    438\u001b[0m \u001b[38;5;28;01mreturn\u001b[39;00m ground_truth_model_params, gt_ei\n",
      "File \u001b[0;32m/nfs/pool0/lotlikar/software/extracellular-jaxley/exp/model.py:326\u001b[0m, in \u001b[0;36mStraightAxon.predict_ei\u001b[0;34m(self, params)\u001b[0m\n\u001b[1;32m    322\u001b[0m \u001b[38;5;28;01mdef\u001b[39;00m\u001b[38;5;250m \u001b[39m\u001b[38;5;21mpredict_ei\u001b[39m(\u001b[38;5;28mself\u001b[39m, params):\n\u001b[1;32m    323\u001b[0m \u001b[38;5;250m    \u001b[39m\u001b[38;5;124;03m\"\"\"\u001b[39;00m\n\u001b[1;32m    324\u001b[0m \u001b[38;5;124;03m    Predict extracellular potentials using the current parameters.\u001b[39;00m\n\u001b[1;32m    325\u001b[0m \u001b[38;5;124;03m    \"\"\"\u001b[39;00m\n\u001b[0;32m--> 326\u001b[0m     \u001b[38;5;28;01mreturn\u001b[39;00m \u001b[43mcompute_eap\u001b[49m\u001b[43m(\u001b[49m\u001b[43mparams\u001b[49m\u001b[43m,\u001b[49m\u001b[43m \u001b[49m\u001b[38;5;28;43mself\u001b[39;49m\u001b[38;5;241;43m.\u001b[39;49m\u001b[43mcell\u001b[49m\u001b[43m)\u001b[49m\n",
      "    \u001b[0;31m[... skipping hidden 14 frame]\u001b[0m\n",
      "File \u001b[0;32m/nfs/pool0/lotlikar/software/extracellular-jaxley/exp/model.py:93\u001b[0m, in \u001b[0;36mcompute_eap\u001b[0;34m(params, cell)\u001b[0m\n\u001b[1;32m     90\u001b[0m \u001b[38;5;129m@jax\u001b[39m\u001b[38;5;241m.\u001b[39mjit\n\u001b[1;32m     91\u001b[0m \u001b[38;5;28;01mdef\u001b[39;00m\u001b[38;5;250m \u001b[39m\u001b[38;5;21mcompute_eap\u001b[39m(params: Dict[\u001b[38;5;28mstr\u001b[39m, jnp\u001b[38;5;241m.\u001b[39mndarray], cell):\n\u001b[1;32m     92\u001b[0m \u001b[38;5;250m    \u001b[39m\u001b[38;5;124;03m\"\"\"Compute extracellular action potentials.\"\"\"\u001b[39;00m\n\u001b[0;32m---> 93\u001b[0m     membrane_current \u001b[38;5;241m=\u001b[39m \u001b[43mcompute_membrane_current_density\u001b[49m\u001b[43m(\u001b[49m\u001b[43mcell\u001b[49m\u001b[43m,\u001b[49m\u001b[43m \u001b[49m\u001b[43mparams\u001b[49m\u001b[43m)\u001b[49m \u001b[38;5;66;03m#mA/cm^2 (num_compartments, num_timepoints)\u001b[39;00m\n\u001b[1;32m     95\u001b[0m     compartment_surface_area \u001b[38;5;241m=\u001b[39m \u001b[38;5;241m2\u001b[39m \u001b[38;5;241m*\u001b[39m jnp\u001b[38;5;241m.\u001b[39mpi \u001b[38;5;241m*\u001b[39m params[\u001b[38;5;124m\"\u001b[39m\u001b[38;5;124mradius\u001b[39m\u001b[38;5;124m\"\u001b[39m] \u001b[38;5;241m*\u001b[39m jnp\u001b[38;5;241m.\u001b[39marray(cell\u001b[38;5;241m.\u001b[39mnodes[\u001b[38;5;124m\"\u001b[39m\u001b[38;5;124mlength\u001b[39m\u001b[38;5;124m\"\u001b[39m]) \u001b[38;5;66;03m#um^2\u001b[39;00m\n\u001b[1;32m     96\u001b[0m     compartment_surface_area \u001b[38;5;241m=\u001b[39m jax\u001b[38;5;241m.\u001b[39mdevice_put(compartment_surface_area)\n",
      "    \u001b[0;31m[... skipping hidden 14 frame]\u001b[0m\n",
      "File \u001b[0;32m/nfs/pool0/lotlikar/software/extracellular-jaxley/exp/model.py:76\u001b[0m, in \u001b[0;36mcompute_membrane_current_density\u001b[0;34m(cell, params)\u001b[0m\n\u001b[1;32m     74\u001b[0m \u001b[38;5;250m\u001b[39m\u001b[38;5;124;03m\"\"\"Compute membrane currents using cell parameters.\"\"\"\u001b[39;00m\n\u001b[1;32m     75\u001b[0m current \u001b[38;5;241m=\u001b[39m jx\u001b[38;5;241m.\u001b[39mstep_current(i_delay\u001b[38;5;241m=\u001b[39m\u001b[38;5;241m1.0\u001b[39m, i_dur\u001b[38;5;241m=\u001b[39m\u001b[38;5;241m1.0\u001b[39m, i_amp\u001b[38;5;241m=\u001b[39m\u001b[38;5;241m0.0\u001b[39m, delta_t\u001b[38;5;241m=\u001b[39mTIME_STEP, t_max\u001b[38;5;241m=\u001b[39mTOTAL_SIM_TIME)\n\u001b[0;32m---> 76\u001b[0m \u001b[43mcell\u001b[49m\u001b[38;5;241;43m.\u001b[39;49m\u001b[43mbranch\u001b[49m(\u001b[38;5;241m0\u001b[39m)\u001b[38;5;241m.\u001b[39mloc(\u001b[38;5;241m0.0\u001b[39m)\u001b[38;5;241m.\u001b[39mstimulate(current)\n\u001b[1;32m     77\u001b[0m record_values \u001b[38;5;241m=\u001b[39m [\u001b[38;5;124m\"\u001b[39m\u001b[38;5;124mv\u001b[39m\u001b[38;5;124m\"\u001b[39m, \u001b[38;5;124m\"\u001b[39m\u001b[38;5;124mi_HH\u001b[39m\u001b[38;5;124m\"\u001b[39m]\n\u001b[1;32m     78\u001b[0m \u001b[38;5;28;01mfor\u001b[39;00m record_value \u001b[38;5;129;01min\u001b[39;00m record_values:\n",
      "File \u001b[0;32m/pool0/lotlikar/ten_amrith_venv/lib/python3.10/site-packages/jax/_src/core.py:932\u001b[0m, in \u001b[0;36mTracer.__getattr__\u001b[0;34m(self, name)\u001b[0m\n\u001b[1;32m    930\u001b[0m   attr \u001b[38;5;241m=\u001b[39m \u001b[38;5;28mgetattr\u001b[39m(\u001b[38;5;28mself\u001b[39m\u001b[38;5;241m.\u001b[39maval, name)\n\u001b[1;32m    931\u001b[0m \u001b[38;5;28;01mexcept\u001b[39;00m \u001b[38;5;167;01mAttributeError\u001b[39;00m \u001b[38;5;28;01mas\u001b[39;00m err:\n\u001b[0;32m--> 932\u001b[0m   \u001b[38;5;28;01mraise\u001b[39;00m \u001b[38;5;167;01mAttributeError\u001b[39;00m(\n\u001b[1;32m    933\u001b[0m       \u001b[38;5;124mf\u001b[39m\u001b[38;5;124m\"\u001b[39m\u001b[38;5;132;01m{\u001b[39;00m\u001b[38;5;28mself\u001b[39m\u001b[38;5;241m.\u001b[39m\u001b[38;5;18m__class__\u001b[39m\u001b[38;5;241m.\u001b[39m\u001b[38;5;18m__name__\u001b[39m\u001b[38;5;132;01m}\u001b[39;00m\u001b[38;5;124m has no attribute \u001b[39m\u001b[38;5;132;01m{\u001b[39;00mname\u001b[38;5;132;01m}\u001b[39;00m\u001b[38;5;124m\"\u001b[39m\n\u001b[1;32m    934\u001b[0m   ) \u001b[38;5;28;01mfrom\u001b[39;00m\u001b[38;5;250m \u001b[39m\u001b[38;5;21;01merr\u001b[39;00m\n\u001b[1;32m    935\u001b[0m \u001b[38;5;28;01melse\u001b[39;00m:\n\u001b[1;32m    936\u001b[0m   t \u001b[38;5;241m=\u001b[39m \u001b[38;5;28mtype\u001b[39m(attr)\n",
      "\u001b[0;31mAttributeError\u001b[0m: DynamicJaxprTracer has no attribute branch"
     ]
    }
   ],
   "source": [
    "\n",
    "import pickle as pkl\n",
    "import importlib\n",
    "\n",
    "import model\n",
    "importlib.reload(model)\n",
    "\n",
    "\n",
    "#with open('./electrical_image_dataset/cell_41_ei.pkl', 'rb') as f:\n",
    "#    ei_example = pkl.load(f)\n",
    "\n",
    "#print(ei_example.shape)\n",
    "\n",
    "gt_params, gt_ei = model.generate_random_gt_params_ei(seed=42)\n",
    "print(gt_params)\n",
    "print(gt_ei.shape)\n",
    "\n",
    "trainer = model.StraightAxon()\n",
    "final_params, losses = trainer.train(data_point=None, num_epochs=400, learning_rate=1e-1)"
   ]
  }
 ],
 "metadata": {
  "kernelspec": {
   "display_name": "ten_amrith_venv",
   "language": "python",
   "name": "python3"
  },
  "language_info": {
   "codemirror_mode": {
    "name": "ipython",
    "version": 3
   },
   "file_extension": ".py",
   "mimetype": "text/x-python",
   "name": "python",
   "nbconvert_exporter": "python",
   "pygments_lexer": "ipython3",
   "version": "3.10.17"
  }
 },
 "nbformat": 4,
 "nbformat_minor": 5
}
