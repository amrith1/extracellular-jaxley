{
 "cells": [
  {
   "cell_type": "code",
   "execution_count": null,
   "id": "d8b73153",
   "metadata": {},
   "outputs": [
    {
     "name": "stdout",
     "output_type": "stream",
     "text": [
      "Number of newly added trainable parameters: 1. Total number of trainable parameters: 1\n",
      "Number of newly added trainable parameters: 1. Total number of trainable parameters: 2\n",
      "Number of newly added trainable parameters: 1. Total number of trainable parameters: 3\n",
      "Number of newly added trainable parameters: 1. Total number of trainable parameters: 4\n",
      "Added 1 external_states. See `.externals` for details.\n",
      "Added 1500 recordings. See `.recordings` for details.\n",
      "Added 1500 recordings. See `.recordings` for details.\n",
      "{'HH_gK': Array([-1.44115446e-12], dtype=float64), 'HH_gNa': Array([7.1693381e-12], dtype=float64), 'axial_resistivity': Array([-2.45203333e-17], dtype=float64), 'axon_origin_dist': Array([-4.02331947e-12], dtype=float64), 'axon_phi': Array([-1.94403507e-12], dtype=float64), 'axon_spin_angle': Array([9.96499906e-30], dtype=float64), 'axon_theta': Array([6.32845526e-30], dtype=float64), 'radius': Array([2.92931179e-11], dtype=float64)}\n",
      "Epoch 0, Loss: 0.000000, Grad Norm: 0.000000\n",
      "{'HH_gK': Array([-1.44112146e-12], dtype=float64), 'HH_gNa': Array([7.16917229e-12], dtype=float64), 'axial_resistivity': Array([-3.59072233e-17], dtype=float64), 'axon_origin_dist': Array([-4.02321001e-12], dtype=float64), 'axon_phi': Array([-1.94397089e-12], dtype=float64), 'axon_spin_angle': Array([-2.93419685e-30], dtype=float64), 'axon_theta': Array([2.87689594e-30], dtype=float64), 'radius': Array([2.92926498e-11], dtype=float64)}\n",
      "{'HH_gK': Array([-1.44109085e-12], dtype=float64), 'HH_gNa': Array([7.16901993e-12], dtype=float64), 'axial_resistivity': Array([-2.33510724e-17], dtype=float64), 'axon_origin_dist': Array([-4.02311757e-12], dtype=float64), 'axon_phi': Array([-1.94391515e-12], dtype=float64), 'axon_spin_angle': Array([-7.60927017e-30], dtype=float64), 'axon_theta': Array([-2.31786532e-31], dtype=float64), 'radius': Array([2.92922755e-11], dtype=float64)}\n",
      "{'HH_gK': Array([-1.44106237e-12], dtype=float64), 'HH_gNa': Array([7.16887411e-12], dtype=float64), 'axial_resistivity': Array([-3.2432606e-17], dtype=float64), 'axon_origin_dist': Array([-4.0230325e-12], dtype=float64), 'axon_phi': Array([-1.94386299e-12], dtype=float64), 'axon_spin_angle': Array([1.56593302e-29], dtype=float64), 'axon_theta': Array([8.21715305e-30], dtype=float64), 'radius': Array([2.92919785e-11], dtype=float64)}\n",
      "{'HH_gK': Array([-1.44103213e-12], dtype=float64), 'HH_gNa': Array([7.16872273e-12], dtype=float64), 'axial_resistivity': Array([-3.73585346e-17], dtype=float64), 'axon_origin_dist': Array([-4.02294018e-12], dtype=float64), 'axon_phi': Array([-1.94380733e-12], dtype=float64), 'axon_spin_angle': Array([-2.11856397e-30], dtype=float64), 'axon_theta': Array([3.15211463e-29], dtype=float64), 'radius': Array([2.92916238e-11], dtype=float64)}\n",
      "{'HH_gK': Array([-1.44100241e-12], dtype=float64), 'HH_gNa': Array([7.1685758e-12], dtype=float64), 'axial_resistivity': Array([-2.96291201e-17], dtype=float64), 'axon_origin_dist': Array([-4.02285337e-12], dtype=float64), 'axon_phi': Array([-1.94375433e-12], dtype=float64), 'axon_spin_angle': Array([3.99181731e-30], dtype=float64), 'axon_theta': Array([-4.47424656e-30], dtype=float64), 'radius': Array([2.92912952e-11], dtype=float64)}\n",
      "{'HH_gK': Array([-1.44097237e-12], dtype=float64), 'HH_gNa': Array([7.1684232e-12], dtype=float64), 'axial_resistivity': Array([-3.12841814e-17], dtype=float64), 'axon_origin_dist': Array([-4.02275977e-12], dtype=float64), 'axon_phi': Array([-1.94369805e-12], dtype=float64), 'axon_spin_angle': Array([3.72935379e-30], dtype=float64), 'axon_theta': Array([5.22731121e-30], dtype=float64), 'radius': Array([2.92909277e-11], dtype=float64)}\n",
      "{'HH_gK': Array([-1.44094255e-12], dtype=float64), 'HH_gNa': Array([7.16827486e-12], dtype=float64), 'axial_resistivity': Array([-3.59710509e-17], dtype=float64), 'axon_origin_dist': Array([-4.02267136e-12], dtype=float64), 'axon_phi': Array([-1.94364427e-12], dtype=float64), 'axon_spin_angle': Array([2.29584916e-30], dtype=float64), 'axon_theta': Array([6.18770591e-30], dtype=float64), 'radius': Array([2.92906014e-11], dtype=float64)}\n",
      "{'HH_gK': Array([-1.4409131e-12], dtype=float64), 'HH_gNa': Array([7.16812753e-12], dtype=float64), 'axial_resistivity': Array([-3.22611839e-17], dtype=float64), 'axon_origin_dist': Array([-4.02258375e-12], dtype=float64), 'axon_phi': Array([-1.94359089e-12], dtype=float64), 'axon_spin_angle': Array([2.27475187e-29], dtype=float64), 'axon_theta': Array([-8.36757824e-30], dtype=float64), 'radius': Array([2.92902714e-11], dtype=float64)}\n"
     ]
    },
    {
     "ename": "KeyboardInterrupt",
     "evalue": "",
     "output_type": "error",
     "traceback": [
      "\u001b[31m---------------------------------------------------------------------------\u001b[39m",
      "\u001b[31mKeyboardInterrupt\u001b[39m                         Traceback (most recent call last)",
      "\u001b[36mCell\u001b[39m\u001b[36m \u001b[39m\u001b[32mIn[11]\u001b[39m\u001b[32m, line 12\u001b[39m\n\u001b[32m      9\u001b[39m     ei_example = pkl.load(f)\n\u001b[32m     11\u001b[39m trainer = model.SimpleCellEIAndLoss()\n\u001b[32m---> \u001b[39m\u001b[32m12\u001b[39m final_params, losses = \u001b[43mtrainer\u001b[49m\u001b[43m.\u001b[49m\u001b[43mtrain\u001b[49m\u001b[43m(\u001b[49m\u001b[43mdata_point\u001b[49m\u001b[43m=\u001b[49m\u001b[43mei_example\u001b[49m\u001b[43m,\u001b[49m\u001b[43m \u001b[49m\u001b[43mnum_epochs\u001b[49m\u001b[43m=\u001b[49m\u001b[32;43m400\u001b[39;49m\u001b[43m,\u001b[49m\u001b[43m \u001b[49m\u001b[43mlearning_rate\u001b[49m\u001b[43m=\u001b[49m\u001b[32;43m1e-2\u001b[39;49m\u001b[43m)\u001b[49m\n",
      "\u001b[36mFile \u001b[39m\u001b[32m~/Desktop/Stats220/extracellular-jaxley/exp/model.py:361\u001b[39m, in \u001b[36mSimpleCellEIAndLoss.train\u001b[39m\u001b[34m(self, data_point, num_epochs, learning_rate)\u001b[39m\n\u001b[32m    358\u001b[39m \u001b[38;5;28;01mfor\u001b[39;00m epoch \u001b[38;5;129;01min\u001b[39;00m \u001b[38;5;28mrange\u001b[39m(num_epochs):\n\u001b[32m    359\u001b[39m     \u001b[38;5;66;03m# Compute loss and gradients\u001b[39;00m\n\u001b[32m    360\u001b[39m     loss_val, gradients = \u001b[38;5;28mself\u001b[39m.jitted_grad(opt_params, data_point)\n\u001b[32m--> \u001b[39m\u001b[32m361\u001b[39m     \u001b[38;5;28;43mprint\u001b[39;49m\u001b[43m(\u001b[49m\u001b[43mgradients\u001b[49m\u001b[43m)\u001b[49m\n\u001b[32m    363\u001b[39m     \u001b[38;5;66;03m# Check for NaN\u001b[39;00m\n\u001b[32m    364\u001b[39m     \u001b[38;5;28;01mif\u001b[39;00m jnp.isnan(loss_val):\n",
      "\u001b[36mFile \u001b[39m\u001b[32m~/anaconda3/envs/stats220/lib/python3.13/site-packages/jax/_src/array.py:414\u001b[39m, in \u001b[36mArrayImpl.__repr__\u001b[39m\u001b[34m(self)\u001b[39m\n\u001b[32m    412\u001b[39m   s = \u001b[33mf\u001b[39m\u001b[33m\"\u001b[39m\u001b[33m[], shape=\u001b[39m\u001b[38;5;132;01m{\u001b[39;00m\u001b[38;5;28mself\u001b[39m.shape\u001b[38;5;132;01m}\u001b[39;00m\u001b[33m\"\u001b[39m\n\u001b[32m    413\u001b[39m \u001b[38;5;28;01melse\u001b[39;00m:\n\u001b[32m--> \u001b[39m\u001b[32m414\u001b[39m   s = np.array2string(\u001b[38;5;28;43mself\u001b[39;49m\u001b[43m.\u001b[49m\u001b[43m_value\u001b[49m, prefix=prefix, suffix=\u001b[33m'\u001b[39m\u001b[33m,\u001b[39m\u001b[33m'\u001b[39m,\n\u001b[32m    415\u001b[39m                       separator=\u001b[33m'\u001b[39m\u001b[33m, \u001b[39m\u001b[33m'\u001b[39m, max_line_width=line_width)\n\u001b[32m    416\u001b[39m last_line_len = \u001b[38;5;28mlen\u001b[39m(s) - s.rfind(\u001b[33m'\u001b[39m\u001b[38;5;130;01m\\n\u001b[39;00m\u001b[33m'\u001b[39m) + \u001b[32m1\u001b[39m\n\u001b[32m    417\u001b[39m sep = \u001b[33m'\u001b[39m\u001b[33m \u001b[39m\u001b[33m'\u001b[39m\n",
      "\u001b[36mFile \u001b[39m\u001b[32m~/anaconda3/envs/stats220/lib/python3.13/site-packages/jax/_src/profiler.py:354\u001b[39m, in \u001b[36mannotate_function.<locals>.wrapper\u001b[39m\u001b[34m(*args, **kwargs)\u001b[39m\n\u001b[32m    351\u001b[39m \u001b[38;5;129m@wraps\u001b[39m(func)\n\u001b[32m    352\u001b[39m \u001b[38;5;28;01mdef\u001b[39;00m\u001b[38;5;250m \u001b[39m\u001b[34mwrapper\u001b[39m(*args, **kwargs):\n\u001b[32m    353\u001b[39m   \u001b[38;5;28;01mwith\u001b[39;00m TraceAnnotation(name, **decorator_kwargs):\n\u001b[32m--> \u001b[39m\u001b[32m354\u001b[39m     \u001b[38;5;28;01mreturn\u001b[39;00m \u001b[43mfunc\u001b[49m\u001b[43m(\u001b[49m\u001b[43m*\u001b[49m\u001b[43margs\u001b[49m\u001b[43m,\u001b[49m\u001b[43m \u001b[49m\u001b[43m*\u001b[49m\u001b[43m*\u001b[49m\u001b[43mkwargs\u001b[49m\u001b[43m)\u001b[49m\n",
      "\u001b[36mFile \u001b[39m\u001b[32m~/anaconda3/envs/stats220/lib/python3.13/site-packages/jax/_src/array.py:641\u001b[39m, in \u001b[36mArrayImpl._value\u001b[39m\u001b[34m(self)\u001b[39m\n\u001b[32m    638\u001b[39m \u001b[38;5;28;01mif\u001b[39;00m \u001b[38;5;28mself\u001b[39m._npy_value \u001b[38;5;129;01mis\u001b[39;00m \u001b[38;5;28;01mNone\u001b[39;00m:\n\u001b[32m    639\u001b[39m   \u001b[38;5;28;01mif\u001b[39;00m (\u001b[38;5;28mself\u001b[39m.is_fully_replicated \u001b[38;5;129;01mand\u001b[39;00m\n\u001b[32m    640\u001b[39m       \u001b[38;5;28mself\u001b[39m.sharding._internal_device_list.addressable_device_list):  \u001b[38;5;66;03m# type: ignore\u001b[39;00m\n\u001b[32m--> \u001b[39m\u001b[32m641\u001b[39m     npy_value, did_copy = \u001b[38;5;28;43mself\u001b[39;49m\u001b[43m.\u001b[49m\u001b[43m_single_device_array_to_np_array_did_copy\u001b[49m\u001b[43m(\u001b[49m\u001b[43m)\u001b[49m\n\u001b[32m    642\u001b[39m     npy_value.flags.writeable = \u001b[38;5;28;01mFalse\u001b[39;00m\n\u001b[32m    643\u001b[39m     \u001b[38;5;28;01mif\u001b[39;00m did_copy:\n",
      "\u001b[31mKeyboardInterrupt\u001b[39m: "
     ]
    }
   ],
   "source": [
    "\n",
    "import pickle as pkl\n",
    "import importlib\n",
    "\n",
    "import model\n",
    "importlib.reload(model)\n",
    "\n",
    "\n",
    "with open('./electrical_image_dataset/cell_41_ei.pkl', 'rb') as f:\n",
    "    ei_example = pkl.load(f)\n",
    "\n",
    "trainer = model.SimpleCellEIAndLoss()\n",
    "final_params, losses = trainer.train(data_point=ei_example, num_epochs=400, learning_rate=1e-1)"
   ]
  }
 ],
 "metadata": {
  "kernelspec": {
   "display_name": "stats220",
   "language": "python",
   "name": "python3"
  },
  "language_info": {
   "codemirror_mode": {
    "name": "ipython",
    "version": 3
   },
   "file_extension": ".py",
   "mimetype": "text/x-python",
   "name": "python",
   "nbconvert_exporter": "python",
   "pygments_lexer": "ipython3",
   "version": "3.13.4"
  }
 },
 "nbformat": 4,
 "nbformat_minor": 5
}
