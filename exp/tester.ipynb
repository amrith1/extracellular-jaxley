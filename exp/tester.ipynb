{
 "cells": [
  {
   "cell_type": "code",
   "execution_count": 24,
   "id": "d8b73153",
   "metadata": {},
   "outputs": [
    {
     "name": "stdout",
     "output_type": "stream",
     "text": [
      "Number of newly added trainable parameters: 1. Total number of trainable parameters: 1\n",
      "Number of newly added trainable parameters: 1. Total number of trainable parameters: 2\n",
      "Number of newly added trainable parameters: 1. Total number of trainable parameters: 3\n",
      "Number of newly added trainable parameters: 1. Total number of trainable parameters: 4\n",
      "Added 1 external_states. See `.externals` for details.\n",
      "Added 1500 recordings. See `.recordings` for details.\n",
      "Added 1500 recordings. See `.recordings` for details.\n",
      "Creating trainer...\n",
      "Number of newly added trainable parameters: 1. Total number of trainable parameters: 1\n",
      "Number of newly added trainable parameters: 1. Total number of trainable parameters: 2\n",
      "Number of newly added trainable parameters: 1. Total number of trainable parameters: 3\n",
      "Number of newly added trainable parameters: 1. Total number of trainable parameters: 4\n",
      "Trainer created successfully!\n",
      "Training with physical_ei: ({'axon_origin_dist': Array([18.83830807], dtype=float64), 'axon_theta': Array([0.48451887], dtype=float64), 'axon_phi': Array([0.47149042], dtype=float64), 'axon_spin_angle': Array([-0.43469338], dtype=float64), 'radius': Array([2.01091649], dtype=float64), 'HH_gNa': Array([0.1429274], dtype=float64), 'HH_gK': Array([0.15607643], dtype=float64), 'axial_resistivity': Array([108.78387634], dtype=float64), 'total_length_um': Array([1500.], dtype=float64), 'segment_length_um': Array([1.], dtype=float64)}, Array([[-1.56931182e-07, -1.33136636e-07, -1.18879728e-07, ...,\n",
      "        -9.68797736e-08, -9.68738944e-08, -9.68664776e-08],\n",
      "       [-1.62219857e-07, -1.37623421e-07, -1.22886047e-07, ...,\n",
      "        -1.00144680e-07, -1.00138603e-07, -1.00130936e-07],\n",
      "       [-2.35531898e-07, -1.99819596e-07, -1.78421961e-07, ...,\n",
      "        -1.45403081e-07, -1.45394258e-07, -1.45383122e-07]],      dtype=float64))\n",
      "Added 1 external_states. See `.externals` for details.\n",
      "Added 1500 recordings. See `.recordings` for details.\n",
      "Added 1500 recordings. See `.recordings` for details.\n"
     ]
    },
    {
     "ename": "ConcretizationTypeError",
     "evalue": "Abstract tracer value encountered where concrete value is expected: traced array with shape int64[]\nIt arose in the jnp.arange argument 'start'\nThe error occurred while tracing the function compute_ei_width at /Users/andrewlanpouthakoun/Desktop/Stats220/extracellular-jaxley/exp/loss_functions.py:10 for jit. This concrete value was not available in Python because it depends on the value of the argument max_time_offset.\n\nSee https://docs.jax.dev/en/latest/errors.html#jax.errors.ConcretizationTypeError",
     "output_type": "error",
     "traceback": [
      "\u001b[31m---------------------------------------------------------------------------\u001b[39m",
      "\u001b[31mConcretizationTypeError\u001b[39m                   Traceback (most recent call last)",
      "\u001b[36mCell\u001b[39m\u001b[36m \u001b[39m\u001b[32mIn[24]\u001b[39m\u001b[32m, line 17\u001b[39m\n\u001b[32m     15\u001b[39m \u001b[38;5;28mprint\u001b[39m(\u001b[33m\"\u001b[39m\u001b[33mTrainer created successfully!\u001b[39m\u001b[33m\"\u001b[39m)\n\u001b[32m     16\u001b[39m \u001b[38;5;28mprint\u001b[39m(\u001b[33m\"\u001b[39m\u001b[33mTraining with physical_ei:\u001b[39m\u001b[33m\"\u001b[39m, physical_ei)\n\u001b[32m---> \u001b[39m\u001b[32m17\u001b[39m \u001b[43mtrainer\u001b[49m\u001b[43m.\u001b[49m\u001b[43mtrain\u001b[49m\u001b[43m(\u001b[49m\u001b[43mtrue_ei\u001b[49m\u001b[43m=\u001b[49m\u001b[43mphysical_ei\u001b[49m\u001b[43m)\u001b[49m\n",
      "\u001b[36mFile \u001b[39m\u001b[32m~/Desktop/Stats220/extracellular-jaxley/exp/model.py:389\u001b[39m, in \u001b[36mStraightAxon.train\u001b[39m\u001b[34m(self, num_epochs, learning_rate, true_ei)\u001b[39m\n\u001b[32m    385\u001b[39m epoch_losses = []\n\u001b[32m    387\u001b[39m \u001b[38;5;28;01mfor\u001b[39;00m epoch \u001b[38;5;129;01min\u001b[39;00m \u001b[38;5;28mrange\u001b[39m(num_epochs):\n\u001b[32m    388\u001b[39m     \u001b[38;5;66;03m# Compute loss and gradients\u001b[39;00m\n\u001b[32m--> \u001b[39m\u001b[32m389\u001b[39m     loss_val, gradients = \u001b[38;5;28;43mself\u001b[39;49m\u001b[43m.\u001b[49m\u001b[43mjitted_grad\u001b[49m\u001b[43m(\u001b[49m\u001b[43mopt_params\u001b[49m\u001b[43m,\u001b[49m\u001b[43m \u001b[49m\u001b[43mtrue_ei\u001b[49m\u001b[43m)\u001b[49m\n\u001b[32m    390\u001b[39m     \u001b[38;5;28mprint\u001b[39m(gradients)\n\u001b[32m    392\u001b[39m     \u001b[38;5;66;03m# Check for NaN\u001b[39;00m\n",
      "    \u001b[31m[... skipping hidden 30 frame]\u001b[39m\n",
      "\u001b[36mFile \u001b[39m\u001b[32m~/Desktop/Stats220/extracellular-jaxley/exp/model.py:342\u001b[39m, in \u001b[36mStraightAxon.loss\u001b[39m\u001b[34m(self, original_params, true_ei)\u001b[39m\n\u001b[32m    336\u001b[39m opt_params = \u001b[38;5;28mself\u001b[39m.sigmoid_transform_parameters(original_params)\n\u001b[32m    337\u001b[39m model_ei = \u001b[38;5;28mself\u001b[39m.predict_ei(opt_params)\n\u001b[32m--> \u001b[39m\u001b[32m342\u001b[39m width_loss = \u001b[43mei_width_loss\u001b[49m\u001b[43m(\u001b[49m\u001b[43mmodel_ei\u001b[49m\u001b[43m=\u001b[49m\u001b[43mmodel_ei\u001b[49m\u001b[43m,\u001b[49m\u001b[43m \u001b[49m\u001b[43mreal_ei\u001b[49m\u001b[43m=\u001b[49m\u001b[43mtrue_ei\u001b[49m\u001b[43m,\u001b[49m\u001b[43m \u001b[49m\u001b[43mmax_time_offset\u001b[49m\u001b[43m \u001b[49m\u001b[43m=\u001b[49m\u001b[43m \u001b[49m\u001b[32;43m125\u001b[39;49m\u001b[43m)\u001b[49m\n\u001b[32m    343\u001b[39m \u001b[38;5;66;03m# cable_loss = cable_loss_fn(model_ei=model_ei, real_ei=physical_ei,\u001b[39;00m\n\u001b[32m    344\u001b[39m \u001b[38;5;66;03m#                            model_seg_distances=connected_seg_distances,\u001b[39;00m\n\u001b[32m    345\u001b[39m \u001b[38;5;66;03m#                            initial_seg_distances=initial_seg_distances)\u001b[39;00m\n\u001b[32m    348\u001b[39m sodium_peak_loss = ei_sodium_peak_loss(model_ei=model_ei, real_ei=true_ei)\n",
      "    \u001b[31m[... skipping hidden 16 frame]\u001b[39m\n",
      "\u001b[36mFile \u001b[39m\u001b[32m~/Desktop/Stats220/extracellular-jaxley/exp/loss_functions.py:54\u001b[39m, in \u001b[36mei_width_loss\u001b[39m\u001b[34m(model_ei, real_ei, max_time_offset)\u001b[39m\n\u001b[32m     41\u001b[39m \u001b[38;5;129m@partial\u001b[39m(jit, static_argnums=(\u001b[32m2\u001b[39m,))\n\u001b[32m     42\u001b[39m \u001b[38;5;28;01mdef\u001b[39;00m\u001b[38;5;250m \u001b[39m\u001b[34mei_width_loss\u001b[39m(model_ei, real_ei, max_time_offset: \u001b[38;5;28mint\u001b[39m):\n\u001b[32m     43\u001b[39m \u001b[38;5;250m    \u001b[39m\u001b[33;03m\"\"\"\u001b[39;00m\n\u001b[32m     44\u001b[39m \u001b[33;03m    Functional version of EI width loss.\u001b[39;00m\n\u001b[32m     45\u001b[39m \u001b[33;03m    \u001b[39;00m\n\u001b[32m   (...)\u001b[39m\u001b[32m     52\u001b[39m \u001b[33;03m        Mean squared error between model and real EI widths\u001b[39;00m\n\u001b[32m     53\u001b[39m \u001b[33;03m    \"\"\"\u001b[39;00m\n\u001b[32m---> \u001b[39m\u001b[32m54\u001b[39m     model_ei_width = \u001b[43mcompute_ei_width\u001b[49m\u001b[43m(\u001b[49m\u001b[43mmodel_ei\u001b[49m\u001b[43m,\u001b[49m\u001b[43m \u001b[49m\u001b[43mmax_time_offset\u001b[49m\u001b[43m)\u001b[49m\n\u001b[32m     55\u001b[39m     real_ei_width = compute_ei_width(real_ei, max_time_offset)\n\u001b[32m     56\u001b[39m     \u001b[38;5;28;01mreturn\u001b[39;00m jnp.mean(jnp.square(model_ei_width - real_ei_width))\n",
      "    \u001b[31m[... skipping hidden 14 frame]\u001b[39m\n",
      "\u001b[36mFile \u001b[39m\u001b[32m~/Desktop/Stats220/extracellular-jaxley/exp/loss_functions.py:13\u001b[39m, in \u001b[36mcompute_ei_width\u001b[39m\u001b[34m(ei, max_time_offset)\u001b[39m\n\u001b[32m     10\u001b[39m \u001b[38;5;129m@jit\u001b[39m\n\u001b[32m     11\u001b[39m \u001b[38;5;28;01mdef\u001b[39;00m\u001b[38;5;250m \u001b[39m\u001b[34mcompute_ei_width\u001b[39m(ei, max_time_offset: \u001b[38;5;28mint\u001b[39m):\n\u001b[32m     12\u001b[39m     min_ei, min_index = jnp.min(ei, axis=\u001b[32m0\u001b[39m), jnp.argmin(ei, axis=\u001b[32m0\u001b[39m)\n\u001b[32m---> \u001b[39m\u001b[32m13\u001b[39m     time_offset_squared = jnp.square(\u001b[43mjnp\u001b[49m\u001b[43m.\u001b[49m\u001b[43marange\u001b[49m\u001b[43m(\u001b[49m\u001b[43m-\u001b[49m\u001b[43mmax_time_offset\u001b[49m\u001b[43m,\u001b[49m\u001b[43m \u001b[49m\u001b[43mmax_time_offset\u001b[49m\u001b[43m+\u001b[49m\u001b[32;43m1\u001b[39;49m\u001b[43m,\u001b[49m\u001b[43m \u001b[49m\u001b[43mdtype\u001b[49m\u001b[43m=\u001b[49m\u001b[43mjnp\u001b[49m\u001b[43m.\u001b[49m\u001b[43mfloat32\u001b[49m\u001b[43m)\u001b[49m)\n\u001b[32m     15\u001b[39m     \u001b[38;5;66;03m# Initialize width array\u001b[39;00m\n\u001b[32m     16\u001b[39m     width = jnp.zeros(ei.shape[\u001b[32m1\u001b[39m], dtype=jnp.float32)\n",
      "\u001b[36mFile \u001b[39m\u001b[32m~/anaconda3/envs/stats220/lib/python3.13/site-packages/jax/_src/numpy/lax_numpy.py:6317\u001b[39m, in \u001b[36marange\u001b[39m\u001b[34m(start, stop, step, dtype, device)\u001b[39m\n\u001b[32m   6247\u001b[39m \u001b[38;5;250m\u001b[39m\u001b[33;03m\"\"\"Create an array of evenly-spaced values.\u001b[39;00m\n\u001b[32m   6248\u001b[39m \n\u001b[32m   6249\u001b[39m \u001b[33;03mJAX implementation of :func:`numpy.arange`, implemented in terms of\u001b[39;00m\n\u001b[32m   (...)\u001b[39m\u001b[32m   6313\u001b[39m \u001b[33;03m  - :func:`jax.lax.iota`: directly generate integer sequences in XLA.\u001b[39;00m\n\u001b[32m   6314\u001b[39m \u001b[33;03m\"\"\"\u001b[39;00m\n\u001b[32m   6315\u001b[39m \u001b[38;5;66;03m# TODO(vfdev-5): optimize putting the array directly on the device specified\u001b[39;00m\n\u001b[32m   6316\u001b[39m \u001b[38;5;66;03m# instead of putting it on default device and then on the specific device\u001b[39;00m\n\u001b[32m-> \u001b[39m\u001b[32m6317\u001b[39m output = \u001b[43m_arange\u001b[49m\u001b[43m(\u001b[49m\u001b[43mstart\u001b[49m\u001b[43m,\u001b[49m\u001b[43m \u001b[49m\u001b[43mstop\u001b[49m\u001b[43m=\u001b[49m\u001b[43mstop\u001b[49m\u001b[43m,\u001b[49m\u001b[43m \u001b[49m\u001b[43mstep\u001b[49m\u001b[43m=\u001b[49m\u001b[43mstep\u001b[49m\u001b[43m,\u001b[49m\u001b[43m \u001b[49m\u001b[43mdtype\u001b[49m\u001b[43m=\u001b[49m\u001b[43mdtype\u001b[49m\u001b[43m)\u001b[49m\n\u001b[32m   6318\u001b[39m \u001b[38;5;28;01mif\u001b[39;00m device \u001b[38;5;129;01mis\u001b[39;00m \u001b[38;5;129;01mnot\u001b[39;00m \u001b[38;5;28;01mNone\u001b[39;00m:\n\u001b[32m   6319\u001b[39m   \u001b[38;5;28;01mreturn\u001b[39;00m jax.device_put(output, device=device)\n",
      "\u001b[36mFile \u001b[39m\u001b[32m~/anaconda3/envs/stats220/lib/python3.13/site-packages/jax/_src/numpy/lax_numpy.py:6331\u001b[39m, in \u001b[36m_arange\u001b[39m\u001b[34m(start, stop, step, dtype)\u001b[39m\n\u001b[32m   6329\u001b[39m     start = core.concrete_or_error(\u001b[38;5;28;01mNone\u001b[39;00m, start, \u001b[33m\"\u001b[39m\u001b[33mIt arose in the jnp.arange argument \u001b[39m\u001b[33m'\u001b[39m\u001b[33mstop\u001b[39m\u001b[33m'\u001b[39m\u001b[33m\"\u001b[39m)\n\u001b[32m   6330\u001b[39m   \u001b[38;5;28;01melse\u001b[39;00m:\n\u001b[32m-> \u001b[39m\u001b[32m6331\u001b[39m     start = \u001b[43mcore\u001b[49m\u001b[43m.\u001b[49m\u001b[43mconcrete_or_error\u001b[49m\u001b[43m(\u001b[49m\u001b[38;5;28;43;01mNone\u001b[39;49;00m\u001b[43m,\u001b[49m\u001b[43m \u001b[49m\u001b[43mstart\u001b[49m\u001b[43m,\u001b[49m\u001b[43m \u001b[49m\u001b[33;43m\"\u001b[39;49m\u001b[33;43mIt arose in the jnp.arange argument \u001b[39;49m\u001b[33;43m'\u001b[39;49m\u001b[33;43mstart\u001b[39;49m\u001b[33;43m'\u001b[39;49m\u001b[33;43m\"\u001b[39;49m\u001b[43m)\u001b[49m\n\u001b[32m   6332\u001b[39m util.check_arraylike_or_none(\u001b[33m\"\u001b[39m\u001b[33marange\u001b[39m\u001b[33m\"\u001b[39m, \u001b[38;5;28;01mNone\u001b[39;00m, stop, step)\n\u001b[32m   6333\u001b[39m stop = core.concrete_or_error(\u001b[38;5;28;01mNone\u001b[39;00m, stop, \u001b[33m\"\u001b[39m\u001b[33mIt arose in the jnp.arange argument \u001b[39m\u001b[33m'\u001b[39m\u001b[33mstop\u001b[39m\u001b[33m'\u001b[39m\u001b[33m\"\u001b[39m)\n",
      "\u001b[36mFile \u001b[39m\u001b[32m~/anaconda3/envs/stats220/lib/python3.13/site-packages/jax/_src/core.py:1660\u001b[39m, in \u001b[36mconcrete_or_error\u001b[39m\u001b[34m(force, val, context)\u001b[39m\n\u001b[32m   1658\u001b[39m maybe_concrete = val.to_concrete_value()\n\u001b[32m   1659\u001b[39m \u001b[38;5;28;01mif\u001b[39;00m maybe_concrete \u001b[38;5;129;01mis\u001b[39;00m \u001b[38;5;28;01mNone\u001b[39;00m:\n\u001b[32m-> \u001b[39m\u001b[32m1660\u001b[39m   \u001b[38;5;28;01mraise\u001b[39;00m ConcretizationTypeError(val, context)\n\u001b[32m   1661\u001b[39m \u001b[38;5;28;01melse\u001b[39;00m:\n\u001b[32m   1662\u001b[39m   \u001b[38;5;28;01mreturn\u001b[39;00m force(maybe_concrete)\n",
      "\u001b[31mConcretizationTypeError\u001b[39m: Abstract tracer value encountered where concrete value is expected: traced array with shape int64[]\nIt arose in the jnp.arange argument 'start'\nThe error occurred while tracing the function compute_ei_width at /Users/andrewlanpouthakoun/Desktop/Stats220/extracellular-jaxley/exp/loss_functions.py:10 for jit. This concrete value was not available in Python because it depends on the value of the argument max_time_offset.\n\nSee https://docs.jax.dev/en/latest/errors.html#jax.errors.ConcretizationTypeError"
     ]
    }
   ],
   "source": [
    "import pickle as pkl\n",
    "import importlib\n",
    "import jax.numpy as jnp\n",
    "import numpy as np\n",
    "\n",
    "# Import and reload the model\n",
    "import model\n",
    "importlib.reload(model)\n",
    "\n",
    "physical_ei = model.generate_random_gt_params_ei(1)\n",
    "\n",
    "\n",
    "print(\"Creating trainer...\")\n",
    "trainer = model.StraightAxon()\n",
    "print(\"Trainer created successfully!\")\n",
    "print(\"Training with physical_ei:\", physical_ei)\n",
    "trainer.train(true_ei=physical_ei)"
   ]
  },
  {
   "cell_type": "code",
   "execution_count": null,
   "id": "a33fe4ac",
   "metadata": {},
   "outputs": [],
   "source": []
  }
 ],
 "metadata": {
  "kernelspec": {
   "display_name": "stats220",
   "language": "python",
   "name": "python3"
  },
  "language_info": {
   "codemirror_mode": {
    "name": "ipython",
    "version": 3
   },
   "file_extension": ".py",
   "mimetype": "text/x-python",
   "name": "python",
   "nbconvert_exporter": "python",
   "pygments_lexer": "ipython3",
   "version": "3.13.4"
  }
 },
 "nbformat": 4,
 "nbformat_minor": 5
}
