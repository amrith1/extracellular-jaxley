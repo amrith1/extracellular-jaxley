{
 "cells": [
  {
   "cell_type": "code",
   "execution_count": 1,
   "metadata": {},
   "outputs": [
    {
     "name": "stderr",
     "output_type": "stream",
     "text": [
      "Warning: no DISPLAY environment variable.\n",
      "--No graphics will be displayed.\n"
     ]
    }
   ],
   "source": [
    "#Rebuild NEURON-based Cell\n",
    "import numpy as np\n",
    "from neuron import h\n",
    "import simulation as sim\n",
    "import matplotlib.pyplot as plt\n",
    "import stimulus_pulse as sp\n",
    "import extracellular as ex\n",
    "import helperFuncs as hf\n",
    "\n",
    "for sec in h.allsec():\n",
    "   h.delete_section(sec=sec)"
   ]
  },
  {
   "cell_type": "code",
   "execution_count": 2,
   "metadata": {},
   "outputs": [
    {
     "name": "stdout",
     "output_type": "stream",
     "text": [
      "After any change to cell geometry or nseg, be sure to invoke setpointers()\n",
      "[[-0.01194     0.          0.02      ]\n",
      " [-0.01227408  0.          0.02094255]\n",
      " [-0.01275496  0.          0.02181933]\n",
      " ...\n",
      " [-3.05527043  0.          0.03994091]\n",
      " [-3.05627043  0.          0.03994091]\n",
      " [-3.05727043  0.          0.03994091]]\n"
     ]
    }
   ],
   "source": [
    "RGC = sim.Local_Cell()\n",
    "filename = 'cell_param_files/params_35_v2.csv'\n",
    "axon_coords = RGC.build_cell(filename, 'mammalian_spike_35')\n",
    "# RGC.shift_cell_x_y_z(0+x_shift,0,0)"
   ]
  },
  {
   "cell_type": "markdown",
   "metadata": {},
   "source": [
    "# Convert to SWC"
   ]
  },
  {
   "cell_type": "code",
   "execution_count": 3,
   "metadata": {},
   "outputs": [
    {
     "name": "stdout",
     "output_type": "stream",
     "text": [
      "Wrote cell 0 to n_rgc.swc\n"
     ]
    }
   ],
   "source": [
    "from hoc2swc import neuron2swc\n",
    "\n",
    "neuron2swc(\"n_rgc.swc\")"
   ]
  },
  {
   "cell_type": "markdown",
   "metadata": {},
   "source": [
    "# Simplify and Clean the SWC File"
   ]
  },
  {
   "cell_type": "code",
   "execution_count": 4,
   "metadata": {},
   "outputs": [
    {
     "ename": "ModuleNotFoundError",
     "evalue": "No module named 'jaxley'",
     "output_type": "error",
     "traceback": [
      "\u001b[0;31m---------------------------------------------------------------------------\u001b[0m",
      "\u001b[0;31mModuleNotFoundError\u001b[0m                       Traceback (most recent call last)",
      "Cell \u001b[0;32mIn[4], line 1\u001b[0m\n\u001b[0;32m----> 1\u001b[0m \u001b[38;5;28;01mimport\u001b[39;00m \u001b[38;5;21;01mjaxley\u001b[39;00m \u001b[38;5;28;01mas\u001b[39;00m \u001b[38;5;21;01mjx\u001b[39;00m\n\u001b[1;32m      2\u001b[0m \u001b[38;5;28;01mfrom\u001b[39;00m \u001b[38;5;21;01mjaxley\u001b[39;00m\u001b[38;5;21;01m.\u001b[39;00m\u001b[38;5;21;01mmorphology\u001b[39;00m \u001b[38;5;28;01mimport\u001b[39;00m morph_delete, morph_connect\n\u001b[1;32m      3\u001b[0m \u001b[38;5;28;01mimport\u001b[39;00m \u001b[38;5;21;01mnetworkx\u001b[39;00m \u001b[38;5;28;01mas\u001b[39;00m \u001b[38;5;21;01mnx\u001b[39;00m\n",
      "\u001b[0;31mModuleNotFoundError\u001b[0m: No module named 'jaxley'"
     ]
    }
   ],
   "source": [
    "import jaxley as jx\n",
    "from jaxley.morphology import morph_delete, morph_connect\n",
    "import networkx as nx\n",
    "import numpy as np\n",
    "import matplotlib.pyplot as plt\n",
    "\n",
    "import pandas as pd"
   ]
  },
  {
   "cell_type": "code",
   "execution_count": 5,
   "metadata": {},
   "outputs": [],
   "source": [
    "cell = jx.read_swc(\n",
    "    \"n_rgc.swc\", \n",
    "    ncomp = 20, \n",
    "    min_radius= 0.005,\n",
    "    assign_groups=True)\n",
    "\n",
    "\n"
   ]
  },
  {
   "cell_type": "code",
   "execution_count": 6,
   "metadata": {},
   "outputs": [
    {
     "data": {
      "text/html": [
       "<div>\n",
       "<style scoped>\n",
       "    .dataframe tbody tr th:only-of-type {\n",
       "        vertical-align: middle;\n",
       "    }\n",
       "\n",
       "    .dataframe tbody tr th {\n",
       "        vertical-align: top;\n",
       "    }\n",
       "\n",
       "    .dataframe thead th {\n",
       "        text-align: right;\n",
       "    }\n",
       "</style>\n",
       "<table border=\"1\" class=\"dataframe\">\n",
       "  <thead>\n",
       "    <tr style=\"text-align: right;\">\n",
       "      <th></th>\n",
       "      <th>local_comp_index</th>\n",
       "      <th>global_comp_index</th>\n",
       "      <th>local_branch_index</th>\n",
       "      <th>global_branch_index</th>\n",
       "      <th>local_cell_index</th>\n",
       "      <th>global_cell_index</th>\n",
       "    </tr>\n",
       "  </thead>\n",
       "  <tbody>\n",
       "    <tr>\n",
       "      <th>0</th>\n",
       "      <td>0</td>\n",
       "      <td>0</td>\n",
       "      <td>0</td>\n",
       "      <td>0</td>\n",
       "      <td>0</td>\n",
       "      <td>0</td>\n",
       "    </tr>\n",
       "    <tr>\n",
       "      <th>1</th>\n",
       "      <td>1</td>\n",
       "      <td>1</td>\n",
       "      <td>0</td>\n",
       "      <td>0</td>\n",
       "      <td>0</td>\n",
       "      <td>0</td>\n",
       "    </tr>\n",
       "    <tr>\n",
       "      <th>2</th>\n",
       "      <td>2</td>\n",
       "      <td>2</td>\n",
       "      <td>0</td>\n",
       "      <td>0</td>\n",
       "      <td>0</td>\n",
       "      <td>0</td>\n",
       "    </tr>\n",
       "    <tr>\n",
       "      <th>3</th>\n",
       "      <td>3</td>\n",
       "      <td>3</td>\n",
       "      <td>0</td>\n",
       "      <td>0</td>\n",
       "      <td>0</td>\n",
       "      <td>0</td>\n",
       "    </tr>\n",
       "    <tr>\n",
       "      <th>4</th>\n",
       "      <td>4</td>\n",
       "      <td>4</td>\n",
       "      <td>0</td>\n",
       "      <td>0</td>\n",
       "      <td>0</td>\n",
       "      <td>0</td>\n",
       "    </tr>\n",
       "    <tr>\n",
       "      <th>...</th>\n",
       "      <td>...</td>\n",
       "      <td>...</td>\n",
       "      <td>...</td>\n",
       "      <td>...</td>\n",
       "      <td>...</td>\n",
       "      <td>...</td>\n",
       "    </tr>\n",
       "    <tr>\n",
       "      <th>2415</th>\n",
       "      <td>15</td>\n",
       "      <td>2415</td>\n",
       "      <td>120</td>\n",
       "      <td>120</td>\n",
       "      <td>0</td>\n",
       "      <td>0</td>\n",
       "    </tr>\n",
       "    <tr>\n",
       "      <th>2416</th>\n",
       "      <td>16</td>\n",
       "      <td>2416</td>\n",
       "      <td>120</td>\n",
       "      <td>120</td>\n",
       "      <td>0</td>\n",
       "      <td>0</td>\n",
       "    </tr>\n",
       "    <tr>\n",
       "      <th>2417</th>\n",
       "      <td>17</td>\n",
       "      <td>2417</td>\n",
       "      <td>120</td>\n",
       "      <td>120</td>\n",
       "      <td>0</td>\n",
       "      <td>0</td>\n",
       "    </tr>\n",
       "    <tr>\n",
       "      <th>2418</th>\n",
       "      <td>18</td>\n",
       "      <td>2418</td>\n",
       "      <td>120</td>\n",
       "      <td>120</td>\n",
       "      <td>0</td>\n",
       "      <td>0</td>\n",
       "    </tr>\n",
       "    <tr>\n",
       "      <th>2419</th>\n",
       "      <td>19</td>\n",
       "      <td>2419</td>\n",
       "      <td>120</td>\n",
       "      <td>120</td>\n",
       "      <td>0</td>\n",
       "      <td>0</td>\n",
       "    </tr>\n",
       "  </tbody>\n",
       "</table>\n",
       "<p>2420 rows × 6 columns</p>\n",
       "</div>"
      ],
      "text/plain": [
       "      local_comp_index  global_comp_index  local_branch_index  \\\n",
       "0                    0                  0                   0   \n",
       "1                    1                  1                   0   \n",
       "2                    2                  2                   0   \n",
       "3                    3                  3                   0   \n",
       "4                    4                  4                   0   \n",
       "...                ...                ...                 ...   \n",
       "2415                15               2415                 120   \n",
       "2416                16               2416                 120   \n",
       "2417                17               2417                 120   \n",
       "2418                18               2418                 120   \n",
       "2419                19               2419                 120   \n",
       "\n",
       "      global_branch_index  local_cell_index  global_cell_index  \n",
       "0                       0                 0                  0  \n",
       "1                       0                 0                  0  \n",
       "2                       0                 0                  0  \n",
       "3                       0                 0                  0  \n",
       "4                       0                 0                  0  \n",
       "...                   ...               ...                ...  \n",
       "2415                  120                 0                  0  \n",
       "2416                  120                 0                  0  \n",
       "2417                  120                 0                  0  \n",
       "2418                  120                 0                  0  \n",
       "2419                  120                 0                  0  \n",
       "\n",
       "[2420 rows x 6 columns]"
      ]
     },
     "execution_count": 6,
     "metadata": {},
     "output_type": "execute_result"
    }
   ],
   "source": [
    "cell.show()\n"
   ]
  },
  {
   "cell_type": "markdown",
   "metadata": {},
   "source": [
    "# Visualize"
   ]
  },
  {
   "cell_type": "code",
   "execution_count": 7,
   "metadata": {},
   "outputs": [
    {
     "name": "stdout",
     "output_type": "stream",
     "text": [
      "[[-0.01194     0.          0.02      ]\n",
      " [-0.01227408  0.          0.02094255]\n",
      " [-0.01275496  0.          0.02181933]\n",
      " ...\n",
      " [-3.05527043  0.          0.03994091]\n",
      " [-3.05627043  0.          0.03994091]\n",
      " [-3.05727043  0.          0.03994091]]\n"
     ]
    }
   ],
   "source": [
    "params = pd.read_csv('cell_param_files/params_35_v2.csv')\n",
    "mod_file = 'mammalian_spike_35'\n",
    "print(axon_coords)\n",
    "offset = 0"
   ]
  },
  {
   "cell_type": "markdown",
   "metadata": {},
   "source": [
    "# Build Biophysics For Dendrites"
   ]
  },
  {
   "cell_type": "code",
   "execution_count": null,
   "metadata": {},
   "outputs": [],
   "source": [
    "\n"
   ]
  },
  {
   "cell_type": "code",
   "execution_count": null,
   "metadata": {},
   "outputs": [],
   "source": []
  },
  {
   "cell_type": "markdown",
   "metadata": {},
   "source": [
    "# Build Biophysics For Soma\n"
   ]
  },
  {
   "cell_type": "markdown",
   "metadata": {},
   "source": []
  },
  {
   "cell_type": "markdown",
   "metadata": {},
   "source": [
    "# Build Biophysics For Axon Hillcock\n"
   ]
  },
  {
   "cell_type": "code",
   "execution_count": null,
   "metadata": {},
   "outputs": [],
   "source": []
  },
  {
   "cell_type": "markdown",
   "metadata": {},
   "source": [
    "# Build Morphology For Axon Hillcock\n",
    "\n"
   ]
  },
  {
   "cell_type": "markdown",
   "metadata": {},
   "source": []
  },
  {
   "cell_type": "code",
   "execution_count": 8,
   "metadata": {},
   "outputs": [
    {
     "name": "stdout",
     "output_type": "stream",
     "text": [
      "<class 'int'>\n"
     ]
    }
   ],
   "source": [
    "from morphology_generators.axon_hillcock import build_Axon_Hillcock\n",
    "ah_params = params.iloc[2]\n",
    "ah_length = int(ah_params['length'])\n",
    "print(type(ah_length))\n",
    "ah_diameter = float(ah_params['diameter'])\n",
    "\n",
    "builder = build_Axon_Hillcock(axon_coords, ah_length, ah_diameter)\n",
    "ah = builder.create_branch()\n",
    "offset += ah_length\n"
   ]
  },
  {
   "cell_type": "markdown",
   "metadata": {},
   "source": [
    "# Build Biophysics For SOCB\n"
   ]
  },
  {
   "cell_type": "markdown",
   "metadata": {},
   "source": []
  },
  {
   "cell_type": "markdown",
   "metadata": {},
   "source": [
    "# Build Morphology For SOCB\n"
   ]
  },
  {
   "cell_type": "code",
   "execution_count": 9,
   "metadata": {},
   "outputs": [
    {
     "name": "stdout",
     "output_type": "stream",
     "text": [
      "(41,)\n",
      "(41, 3)\n",
      "     n  type          x    y          z        r  parent\n",
      "0    0     2 -47.515447  0.0  35.235989  2.00000      -1\n",
      "1    1     2 -48.501605  0.0  35.401800  1.96875       0\n",
      "2    2     2 -49.488462  0.0  35.563397  1.93750       1\n",
      "3    3     2 -50.475980  0.0  35.720902  1.90625       2\n",
      "4    4     2 -51.464124  0.0  35.874431  1.87500       3\n",
      "5    5     2 -52.452861  0.0  36.024092  1.84375       4\n",
      "6    6     2 -53.442161  0.0  36.169988  1.81250       5\n",
      "7    7     2 -54.431995  0.0  36.312213  1.78125       6\n",
      "8    8     2 -55.422337  0.0  36.450860  1.75000       7\n",
      "9    9     2 -56.413162  0.0  36.586012  1.71875       8\n",
      "10  10     2 -57.404447  0.0  36.717750  1.68750       9\n",
      "11  11     2 -58.396169  0.0  36.846150  1.65625      10\n",
      "12  12     2 -59.388309  0.0  36.971284  1.62500      11\n",
      "13  13     2 -60.380847  0.0  37.093221  1.59375      12\n",
      "14  14     2 -61.373765  0.0  37.212024  1.56250      13\n",
      "15  15     2 -62.367045  0.0  37.327756  1.53125      14\n",
      "16  16     2 -63.360672  0.0  37.440474  1.50000      15\n",
      "17  17     2 -64.354631  0.0  37.550233  1.46875      16\n",
      "18  18     2 -65.348905  0.0  37.657086  1.43750      17\n",
      "19  19     2 -66.343483  0.0  37.761082  1.40625      18\n",
      "20  20     2 -67.338350  0.0  37.862270  1.37500      19\n",
      "21  21     2 -68.333495  0.0  37.960694  1.34375      20\n",
      "22  22     2 -69.328905  0.0  38.056397  1.31250      21\n",
      "23  23     2 -70.324569  0.0  38.149421  1.28125      22\n",
      "24  24     2 -71.320476  0.0  38.239804  1.25000      23\n",
      "25  25     2 -72.316616  0.0  38.327583  1.21875      24\n",
      "26  26     2 -73.312979  0.0  38.412795  1.18750      25\n",
      "27  27     2 -74.309555  0.0  38.495472  1.15625      26\n",
      "28  28     2 -75.306336  0.0  38.575647  1.12500      27\n",
      "29  29     2 -76.303312  0.0  38.653351  1.09375      28\n",
      "30  30     2 -77.300476  0.0  38.728612  1.06250      29\n",
      "31  31     2 -78.297819  0.0  38.801460  1.03125      30\n",
      "32  32     2 -79.295334  0.0  38.871920  1.00000      31\n",
      "33  33     2 -80.293012  0.0  38.940018  0.96875      32\n",
      "34  34     2 -81.290848  0.0  39.005779  0.93750      33\n",
      "35  35     2 -82.288833  0.0  39.069225  0.90625      34\n",
      "36  36     2 -83.286962  0.0  39.130377  0.87500      35\n",
      "37  37     2 -84.285227  0.0  39.189258  0.84375      36\n",
      "38  38     2 -85.283622  0.0  39.245887  0.81250      37\n",
      "39  39     2 -86.282141  0.0  39.300283  0.78125      38\n",
      "40  40     2 -87.280779  0.0  39.352464  0.75000      39\n"
     ]
    }
   ],
   "source": [
    "from morphology_generators.socb import SOCB_Build\n",
    "socb_params = params.iloc[3]\n",
    "socb_length = int(socb_params['length'])\n",
    "# socb_diameter = float(socb_params['diameter'])\n",
    "nr_params = params.iloc[4]\n",
    "nr_diameter = float(nr_params['diameter'])\n",
    "\n",
    "scaling_factor = (ah_diameter - nr_diameter)/socb_length\n",
    "\n",
    "builder = SOCB_Build(axon_coords, socb_length, ah_diameter, offset, scaling_factor)\n",
    "socb = builder.create_branch()\n",
    "offset += socb_length"
   ]
  },
  {
   "cell_type": "markdown",
   "metadata": {},
   "source": [
    "# Build Biophysics For NR\n"
   ]
  },
  {
   "cell_type": "markdown",
   "metadata": {},
   "source": []
  },
  {
   "cell_type": "markdown",
   "metadata": {},
   "source": [
    "# Build Morphology For NR\n"
   ]
  },
  {
   "cell_type": "code",
   "execution_count": 10,
   "metadata": {},
   "outputs": [],
   "source": [
    "from morphology_generators.nr import NR_Build\n",
    "\n",
    "nr_params = params.iloc[4]\n",
    "nr_diameter = float(nr_params['diameter'])\n",
    "nr_length = int(nr_params['length'])\n",
    "\n",
    "\n",
    "\n",
    "builder = NR_Build(axon_coords, nr_length, nr_diameter, offset)\n",
    "nr = builder.create_branch()\n",
    "offset += nr_length"
   ]
  },
  {
   "cell_type": "markdown",
   "metadata": {},
   "source": [
    "# Build Biophysics For Distal Axon\n"
   ]
  },
  {
   "cell_type": "markdown",
   "metadata": {},
   "source": []
  },
  {
   "cell_type": "markdown",
   "metadata": {},
   "source": [
    "# Build Morphology For Distal Axon\n"
   ]
  },
  {
   "cell_type": "code",
   "execution_count": 11,
   "metadata": {},
   "outputs": [],
   "source": [
    "from morphology_generators.distal_axon import DA_Build\n",
    "\n",
    "da_params = params.iloc[5]\n",
    "da_diameter = float(da_params['diameter'])\n",
    "da_length = int(da_params['length'])\n",
    "\n",
    "\n",
    "\n",
    "builder = DA_Build(axon_coords, da_length, da_diameter, offset)\n",
    "da = builder.create_branch()"
   ]
  },
  {
   "cell_type": "code",
   "execution_count": 12,
   "metadata": {},
   "outputs": [
    {
     "name": "stderr",
     "output_type": "stream",
     "text": [
      "/Users/andrewlanpouthakoun/anaconda3/envs/stats220/lib/python3.13/site-packages/jaxley/modules/network.py:153: FutureWarning: The behavior of DataFrame concatenation with empty or all-NA entries is deprecated. In a future version, this will no longer exclude empty or all-NA columns when determining the result dtypes. To retain the old behavior, exclude the relevant entries before the concat operation.\n",
      "  self._branchpoints = pd.concat(self._branchpoints)\n"
     ]
    },
    {
     "data": {
      "image/png": "[encoded data removed]",
      "text/plain": [
       "<Figure size 500x500 with 1 Axes>"
      ]
     },
     "metadata": {},
     "output_type": "display_data"
    }
   ],
   "source": [
    "cell.initialize()     # or cell.compute_xyz(); cell.set_ncomp(); …\n",
    "ah.initialize() \n",
    "socb.initialize()\n",
    "nr.initialize()\n",
    "da.initialize() \n",
    "net = jx.Network([cell, ah, socb, nr, da])\n",
    "net.cell(0).add_to_group(\"original\")\n",
    "net.cell(1).add_to_group(\"ah\")\n",
    "net.cell(2).add_to_group(\"socb\")\n",
    "net.cell(3).add_to_group(\"nr\")\n",
    "net.cell(4).add_to_group(\"da\")\n",
    "net.compute_xyz()\n",
    "\n",
    "fig, ax = plt.subplots(1, 1, figsize=(5, 5))\n",
    "colors = plt.cm.tab10.colors\n",
    "# net.original.vis(ax=ax, color=colors[2])\n",
    "net.original.vis(ax=ax, color=colors[1])\n",
    "net.ah.vis(ax=ax, color=colors[2])\n",
    "net.socb.vis(ax=ax, color=colors[3])\n",
    "net.nr.vis(ax=ax, color=colors[4])\n",
    "net.da.vis(ax=ax, color=colors[5])\n",
    "# cell.axon.vis(ax=ax, color=colors[0])\n",
    "\n",
    "plt.axis(\"off\")\n",
    "plt.title(\"Groups\")\n",
    "plt.axis(\"square\")\n",
    "plt.show()"
   ]
  },
  {
   "cell_type": "markdown",
   "metadata": {},
   "source": [
    "# Plot in 3D"
   ]
  },
  {
   "cell_type": "code",
   "execution_count": null,
   "metadata": {},
   "outputs": [],
   "source": []
  },
  {
   "cell_type": "code",
   "execution_count": 14,
   "metadata": {},
   "outputs": [
    {
     "name": "stderr",
     "output_type": "stream",
     "text": [
      "/Users/andrewlanpouthakoun/anaconda3/envs/stats220/lib/python3.13/site-packages/jaxley/utils/plot_utils.py:443: UserWarning: rendering large morphologies in 3D can take a while. Consider projecting to 2D instead.\n",
      "  warn(\n",
      "/Users/andrewlanpouthakoun/anaconda3/envs/stats220/lib/python3.13/site-packages/jaxley/utils/plot_utils.py:285: RuntimeWarning: invalid value encountered in divide\n",
      "  orientation = orientation / np.linalg.norm(orientation)\n"
     ]
    },
    {
     "name": "stdout",
     "output_type": "stream",
     "text": [
      "original done\n"
     ]
    },
    {
     "name": "stderr",
     "output_type": "stream",
     "text": [
      "/Users/andrewlanpouthakoun/anaconda3/envs/stats220/lib/python3.13/site-packages/jaxley/utils/plot_utils.py:443: UserWarning: rendering large morphologies in 3D can take a while. Consider projecting to 2D instead.\n",
      "  warn(\n",
      "/Users/andrewlanpouthakoun/anaconda3/envs/stats220/lib/python3.13/site-packages/jaxley/utils/plot_utils.py:285: RuntimeWarning: invalid value encountered in divide\n",
      "  orientation = orientation / np.linalg.norm(orientation)\n",
      "/Users/andrewlanpouthakoun/anaconda3/envs/stats220/lib/python3.13/site-packages/jaxley/utils/plot_utils.py:443: UserWarning: rendering large morphologies in 3D can take a while. Consider projecting to 2D instead.\n",
      "  warn(\n",
      "/Users/andrewlanpouthakoun/anaconda3/envs/stats220/lib/python3.13/site-packages/jaxley/utils/plot_utils.py:285: RuntimeWarning: invalid value encountered in divide\n",
      "  orientation = orientation / np.linalg.norm(orientation)\n",
      "/Users/andrewlanpouthakoun/anaconda3/envs/stats220/lib/python3.13/site-packages/jaxley/utils/plot_utils.py:443: UserWarning: rendering large morphologies in 3D can take a while. Consider projecting to 2D instead.\n",
      "  warn(\n",
      "/Users/andrewlanpouthakoun/anaconda3/envs/stats220/lib/python3.13/site-packages/jaxley/utils/plot_utils.py:285: RuntimeWarning: invalid value encountered in divide\n",
      "  orientation = orientation / np.linalg.norm(orientation)\n",
      "/Users/andrewlanpouthakoun/anaconda3/envs/stats220/lib/python3.13/site-packages/jaxley/utils/plot_utils.py:443: UserWarning: rendering large morphologies in 3D can take a while. Consider projecting to 2D instead.\n",
      "  warn(\n",
      "/Users/andrewlanpouthakoun/anaconda3/envs/stats220/lib/python3.13/site-packages/jaxley/utils/plot_utils.py:285: RuntimeWarning: invalid value encountered in divide\n",
      "  orientation = orientation / np.linalg.norm(orientation)\n"
     ]
    },
    {
     "name": "stdout",
     "output_type": "stream",
     "text": [
      "\n"
     ]
    },
    {
     "data": {
      "image/png": "[encoded data removed]",
      "text/plain": [
       "<Figure size 600x600 with 1 Axes>"
      ]
     },
     "metadata": {},
     "output_type": "display_data"
    }
   ],
   "source": [
    "\n",
    "import matplotlib.pyplot as plt\n",
    "from mpl_toolkits.mplot3d import Axes3D      # noqa: F401 (just activates 3-D)\n",
    "fig  = plt.figure(figsize=(6, 6))\n",
    "ax   = fig.add_subplot(111, projection=\"3d\")\n",
    "\n",
    "# — choose which dimensions to map to X-, Y-, Z-axes —\n",
    "dims = [1, 0, 2]          # Z-, X-, Y-  (same order the docs use)\n",
    "\n",
    "net.original.vis(ax=ax, type=\"morph\", dims=dims, color=colors[1])\n",
    "print(\"original done\")\n",
    "net.ah.vis(      ax=ax, type=\"morph\", dims=dims, color=colors[2])\n",
    "net.socb.vis(    ax=ax, type=\"morph\", dims=dims, color=colors[3])\n",
    "net.nr.vis(      ax=ax, type=\"morph\", dims=dims, color=colors[4])\n",
    "net.da.vis(      ax=ax, type=\"morph\", dims=dims, color=colors[5])\n",
    "\n",
    "print()\n",
    "ax.set_box_aspect([1, 1, 1])       # equal XYZ scaling\n",
    "ax.view_init(elev=20, azim=30)     # nice starting angle\n",
    "plt.title(\"Groups – 3-D view\")\n",
    "plt.show()\n",
    "\n",
    "# fig  = plt.figure(figsize=(6, 6))\n",
    "# ax   = fig.add_subplot(111, projection=\"3d\")\n",
    "# net.vis(ax=ax, type=\"morph\", dims=[0,1])\n",
    "# plt.show()\n"
   ]
  },
  {
   "cell_type": "code",
   "execution_count": null,
   "metadata": {},
   "outputs": [],
   "source": []
  },
  {
   "cell_type": "code",
   "execution_count": null,
   "metadata": {},
   "outputs": [],
   "source": []
  }
 ],
 "metadata": {
  "kernelspec": {
   "display_name": "mike_env",
   "language": "python",
   "name": "python3"
  },
  "language_info": {
   "codemirror_mode": {
    "name": "ipython",
    "version": 3
   },
   "file_extension": ".py",
   "mimetype": "text/x-python",
   "name": "python",
   "nbconvert_exporter": "python",
   "pygments_lexer": "ipython3",
   "version": "3.8.10"
  }
 },
 "nbformat": 4,
 "nbformat_minor": 2
}
